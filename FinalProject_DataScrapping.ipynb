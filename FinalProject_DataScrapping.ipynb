{
  "cells": [
    {
      "cell_type": "code",
      "execution_count": null,
      "metadata": {
        "colab": {
          "base_uri": "https://localhost:8080/"
        },
        "collapsed": true,
        "id": "rZIEZK8YXaOo",
        "outputId": "a155f20d-1bfe-440c-f7e4-4b9995ce39aa"
      },
      "outputs": [],
      "source": [
        "! pip install yt-dlp"
      ]
    },
    {
      "cell_type": "code",
      "execution_count": null,
      "metadata": {
        "colab": {
          "base_uri": "https://localhost:8080/"
        },
        "collapsed": true,
        "id": "2oqzGzFtXa78",
        "outputId": "dd28f625-c503-43d0-b41e-f2812d10f104"
      },
      "outputs": [],
      "source": [
        "! pip install pydub"
      ]
    },
    {
      "cell_type": "code",
      "execution_count": null,
      "metadata": {
        "colab": {
          "base_uri": "https://localhost:8080/",
          "height": 1000
        },
        "collapsed": true,
        "id": "g3IqciDVdies",
        "outputId": "6b46c6e8-7bde-4730-8754-91e59f66039d"
      },
      "outputs": [],
      "source": [
        "! pip install spleeter"
      ]
    },
    {
      "cell_type": "code",
      "execution_count": null,
      "metadata": {
        "colab": {
          "base_uri": "https://localhost:8080/"
        },
        "collapsed": true,
        "id": "IyoHCMqoMoV-",
        "outputId": "3d27987c-3ac8-4913-9367-70eee9239325"
      },
      "outputs": [],
      "source": [
        "! pip install speechrecognition"
      ]
    },
    {
      "cell_type": "code",
      "execution_count": null,
      "metadata": {
        "id": "U9tjVRWtXd5C"
      },
      "outputs": [],
      "source": [
        "import os\n",
        "import yt_dlp\n",
        "from IPython.display import Audio\n",
        "from pydub import AudioSegment, silence\n",
        "import shutil\n",
        "from spleeter.separator import Separator\n",
        "import speech_recognition as sr\n",
        "import pandas as pd"
      ]
    },
    {
      "cell_type": "markdown",
      "metadata": {
        "id": "znErwDiQcrtM"
      },
      "source": [
        "# Download Video"
      ]
    },
    {
      "cell_type": "code",
      "execution_count": null,
      "metadata": {
        "id": "WOWhaLSAXgUR"
      },
      "outputs": [],
      "source": [
        "def download_youtube_audio_yt_dlp(video_url, output_path=\"downloaded_audio\"):\n",
        "      os.makedirs(output_path, exist_ok=True)\n",
        "\n",
        "      ydl_opts = {\n",
        "          'format': 'bestaudio/best',\n",
        "          'extractaudio': True,\n",
        "          'audioformat': 'mp3',\n",
        "          'outtmpl': os.path.join(output_path, '%(title)s.%(ext)s'),\n",
        "          'ignoreerrors': True,  # Ignore errors such as private videos\n",
        "      }\n",
        "\n",
        "      with yt_dlp.YoutubeDL(ydl_opts) as ydl:\n",
        "          try:\n",
        "              ydl.download([video_url])\n",
        "          except yt_dlp.utils.DownloadError as e:\n",
        "              print(f\"Skipping video due to error: {e}\")"
      ]
    },
    {
      "cell_type": "markdown",
      "metadata": {
        "id": "uYKLUmxIc0vN"
      },
      "source": [
        "# Covert video from .webm to .wav"
      ]
    },
    {
      "cell_type": "code",
      "execution_count": null,
      "metadata": {
        "id": "dPbRHibmYRuL"
      },
      "outputs": [],
      "source": [
        "def convert_webm_to_wav(output_path, target_rate=16000):\n",
        "    for file_name in os.listdir(output_path):\n",
        "      if file_name.endswith('.webm'):\n",
        "          input_webm_path = os.path.join(output_path, file_name)\n",
        "          audio = AudioSegment.from_file(input_webm_path, format='webm')\n",
        "          output_wav_path = os.path.splitext(input_webm_path)[0] + '.wav'\n",
        "          audio = audio.set_frame_rate(target_rate)\n",
        "          audio.export(output_wav_path, format='wav')\n",
        "          print(f\"Converted '{input_webm_path}' to '{output_wav_path}'.\")\n",
        "          os.remove(input_webm_path)\n",
        "          print(f\"Deleted original file: '{input_webm_path}'.\")\n",
        "      elif file_name.endswith('.m4a'):\n",
        "          input_m4a_path = os.path.join(output_path, file_name)\n",
        "          audio = AudioSegment.from_file(input_m4a_path, format='m4a')\n",
        "          output_wav_path = os.path.splitext(input_m4a_path)[0] + '.wav'\n",
        "          audio = audio.set_frame_rate(target_rate)\n",
        "          audio.export(output_wav_path, format='wav')\n",
        "          print(f\"Converted '{input_m4a_path}' to '{output_wav_path}'.\")\n",
        "          os.remove(input_m4a_path)\n",
        "          print(f\"Deleted original file: '{input_m4a_path}'.\")"
      ]
    },
    {
      "cell_type": "markdown",
      "metadata": {
        "id": "-xsXnhCg4cSE"
      },
      "source": [
        "# Split Audio into Chunks"
      ]
    },
    {
      "cell_type": "code",
      "execution_count": null,
      "metadata": {
        "id": "gp2CmozDyucg"
      },
      "outputs": [],
      "source": [
        "def split_audio_into_big_chunks(input_audio_path, chunk_duration_ms=5*60*1000):\n",
        "    \"\"\"\n",
        "    Split a given audio file into chunks of specified duration and delete the original file.\n",
        "\n",
        "    Parameters:\n",
        "        input_audio_path (str): The path to the input audio file.\n",
        "        chunk_duration_ms (int): The duration of each chunk in milliseconds (default is 10 minutes).\n",
        "    \"\"\"\n",
        "    # Load the audio file\n",
        "    audio = AudioSegment.from_file(input_audio_path)\n",
        "\n",
        "    # Define the directory to save the chunks\n",
        "    output_directory = os.path.dirname(input_audio_path)\n",
        "\n",
        "    # Get the base name for output chunks (without extension)\n",
        "    base_name = os.path.splitext(os.path.basename(input_audio_path))[0]\n",
        "\n",
        "    # Split the audio into chunks\n",
        "    chunks = [audio[i:i + chunk_duration_ms] for i in range(0, len(audio), chunk_duration_ms)]\n",
        "\n",
        "    # Delete the original file\n",
        "    os.remove(input_audio_path)\n",
        "\n",
        "    # Export each chunk with a new name in the same directory\n",
        "    for idx, chunk in enumerate(chunks):\n",
        "        chunk_path = os.path.join(output_directory, f\"{base_name}_chunk_{idx + 1}.wav\")\n",
        "        chunk.export(chunk_path, format=\"wav\")\n",
        "        print(f\"Exported {chunk_path}\")\n",
        "\n",
        "    print(f\"Audio file '{input_audio_path}' split into chunks and replaced in the original directory.\")"
      ]
    },
    {
      "cell_type": "code",
      "execution_count": null,
      "metadata": {
        "id": "k9rG3gbLyyNV"
      },
      "outputs": [],
      "source": [
        "def process_all_audio_files_in_directory(directory_path):\n",
        "    \"\"\"\n",
        "    Process all audio files in a directory, split them into chunks and delete the originals.\n",
        "\n",
        "    Parameters:\n",
        "        directory_path (str): The directory containing the audio files to process.\n",
        "    \"\"\"\n",
        "    # Loop over all files in the directory\n",
        "    for filename in os.listdir(directory_path):\n",
        "        file_path = os.path.join(directory_path, filename)\n",
        "\n",
        "        # Check if the file is an audio file (e.g., .wav, .mp3)\n",
        "        if os.path.isfile(file_path) and (filename.endswith(\".wav\") or filename.endswith(\".mp3\")):\n",
        "            print(f\"Processing file: {file_path}\")\n",
        "            split_audio_into_big_chunks(file_path)"
      ]
    },
    {
      "cell_type": "markdown",
      "metadata": {
        "id": "gonh3kgf6hzj"
      },
      "source": [
        "# Separate Vocals from Music"
      ]
    },
    {
      "cell_type": "code",
      "execution_count": null,
      "metadata": {
        "id": "laIN1bnr0zHK"
      },
      "outputs": [],
      "source": [
        "def separate_vocals_from_chunks(directory_path):\n",
        "    \"\"\"\n",
        "    Process all audio files in a directory that end with '_chunk_1.wav' using Spleeter,\n",
        "    and save only the vocal track in the same directory with the original name (without '_vocal' suffix).\n",
        "\n",
        "    Parameters:\n",
        "        directory_path (str): The directory containing the audio files to process.\n",
        "    \"\"\"\n",
        "    separator = Separator('spleeter:2stems')\n",
        "\n",
        "    # Loop over all files in the directory\n",
        "    for filename in os.listdir(directory_path):\n",
        "        file_path = os.path.join(directory_path, filename)\n",
        "\n",
        "        # Check if the file ends with '_chunk_1.wav'\n",
        "        # if os.path.isfile(file_path) and filename.endswith(\"_chunk_1.wav\"):\n",
        "        print(f\"Processing file: {file_path}\")\n",
        "\n",
        "        # Use Spleeter to separate the audio and save in the same directory\n",
        "        separator.separate_to_file(file_path, directory_path)\n",
        "\n",
        "        # Create an output path for the vocals with the same name as the original file\n",
        "        output_vocal_path = os.path.join(directory_path, f\"{os.path.splitext(filename)[0]}_vocal.wav\")\n",
        "\n",
        "        # After separation, move or rename the vocal track to the desired location\n",
        "        vocals_path = os.path.join(directory_path, f\"{os.path.splitext(filename)[0]}/vocals.wav\")\n",
        "\n",
        "        # Check if the vocals file exists and rename/move it\n",
        "        if os.path.exists(vocals_path):\n",
        "            os.rename(vocals_path, output_vocal_path)\n",
        "            print(f\"Vocal track saved as: {output_vocal_path}\")\n",
        "\n",
        "            # Optionally, delete the accompaniment file (if needed)\n",
        "            accompaniment_path = os.path.join(directory_path, f\"{os.path.splitext(filename)[0]}/accompaniment.wav\")\n",
        "            if os.path.exists(accompaniment_path):\n",
        "                os.remove(accompaniment_path)\n",
        "                print(f\"Deleted accompaniment: {accompaniment_path}\")\n",
        "\n",
        "        # Clean up the temporary folder created by Spleeter (if necessary)\n",
        "        temp_folder = os.path.join(directory_path, os.path.splitext(filename)[0])\n",
        "        if os.path.exists(temp_folder):\n",
        "            for temp_file in os.listdir(temp_folder):\n",
        "                os.remove(os.path.join(temp_folder, temp_file))  # Delete individual files in the folder\n",
        "            os.rmdir(temp_folder)\n",
        "            print(f\"Deleted temporary folder: {temp_folder}\")\n",
        "\n",
        "        # Remove input audio\n",
        "        os.remove(file_path)\n",
        "        print(f\"Deleted original file: '{filename}'.\")\n",
        "\n",
        "        # Explicitly delete any large variables to free up memory\n",
        "        del file_path, output_vocal_path, vocals_path, accompaniment_path, temp_folder\n",
        "\n",
        "    # Clean up separator object if no longer needed\n",
        "    del separator"
      ]
    },
    {
      "cell_type": "markdown",
      "metadata": {
        "id": "uKeoQuv5D_xP"
      },
      "source": [
        "# Remove Silences"
      ]
    },
    {
      "cell_type": "code",
      "execution_count": null,
      "metadata": {
        "id": "PLGZW_V4D5Vs"
      },
      "outputs": [],
      "source": [
        "def remove_silences(input_dir):\n",
        "\n",
        "    for file_name in os.listdir(input_dir):\n",
        "      if file_name.endswith('_vocal.wav'):\n",
        "        input_audio_path = os.path.join(input_dir, file_name)\n",
        "        merged_filename = f\"{os.path.splitext(file_name)[0]}_without_silence.wav\"\n",
        "\n",
        "        audio = AudioSegment.from_wav(input_audio_path)\n",
        "\n",
        "        # Define parameters for silence detection\n",
        "        min_silence_len = 500  # Minimum length of silence in milliseconds to consider it a split point\n",
        "        silence_thresh = -50  # Silence threshold in dBFS (adjust based on your audio)\n",
        "        keep_silence = 200  # Amount of silence to leave at the beginning and end of each segment, in milliseconds\n",
        "\n",
        "        chunks = silence.split_on_silence(\n",
        "            audio,\n",
        "            min_silence_len=min_silence_len,\n",
        "            silence_thresh=silence_thresh,\n",
        "            keep_silence=keep_silence\n",
        "        )\n",
        "\n",
        "        merged_audio = AudioSegment.empty()\n",
        "\n",
        "        if chunks:\n",
        "          merged_audio = sum(chunks)\n",
        "          del chunks\n",
        "          merged_audio.export(os.path.join(input_dir, merged_filename), format=\"wav\")\n",
        "          print(f\"Merged audio saved as '{merged_filename}'.\")\n",
        "        else:\n",
        "          print(\"No non-silence audio found. Nothing was saved.\")\n",
        "\n",
        "        # Remove input audio\n",
        "        os.remove(input_audio_path)\n",
        "        print(f\"Deleted original file: '{file_name}'.\")"
      ]
    },
    {
      "cell_type": "markdown",
      "metadata": {
        "id": "IZuV-tstJUpK"
      },
      "source": [
        "# Splitting Audio and Transcribing"
      ]
    },
    {
      "cell_type": "code",
      "execution_count": null,
      "metadata": {
        "id": "syAydKM3JPRc"
      },
      "outputs": [],
      "source": [
        "def remove_last_word(audio_chunk):\n",
        "    recognizer = sr.Recognizer()\n",
        "\n",
        "    temp_filename = \"temp_chunk.wav\"\n",
        "    with open(temp_filename, \"wb\") as temp_file:\n",
        "        audio_chunk.export(temp_file, format=\"wav\")\n",
        "\n",
        "    with sr.AudioFile(temp_filename) as source:\n",
        "        audio = recognizer.record(source)\n",
        "\n",
        "        try:\n",
        "            transcript = recognizer.recognize_google(audio,language=\"ar-EG\")\n",
        "            print(f\"Transcript: '{transcript}'\")\n",
        "\n",
        "            words = transcript.split()\n",
        "            if len(words) > 0:\n",
        "                last_word = words[-1]\n",
        "                duration_per_word = len(audio_chunk) / len(words)\n",
        "                end_time = len(words) * duration_per_word - duration_per_word\n",
        "\n",
        "                return audio_chunk[:int(end_time)], transcript\n",
        "\n",
        "        except sr.UnknownValueError:\n",
        "            print(\"Could not understand audio\")\n",
        "        except sr.RequestError:\n",
        "            print(\"Could not request results from Google Speech Recognition service\")\n",
        "\n",
        "    return audio_chunk, \"\""
      ]
    },
    {
      "cell_type": "code",
      "execution_count": null,
      "metadata": {
        "id": "X27IAow3JSAM"
      },
      "outputs": [],
      "source": [
        "def split_audio_into_chunks(input_audio_path, output_drive_path, file_name, chunk_length_ms=10000):\n",
        "    audio = AudioSegment.from_wav(input_audio_path)\n",
        "    local_output_dir = os.path.splitext(os.path.join(output_path, file_name))[0] # directory to save here\n",
        "    os.makedirs(local_output_dir, exist_ok=True)\n",
        "\n",
        "    output_dir = os.path.splitext(os.path.join(output_drive_path, file_name))[0] # directory to save in drive\n",
        "    os.makedirs(output_dir, exist_ok=True)\n",
        "\n",
        "\n",
        "    num_chunks = len(audio) // chunk_length_ms + (1 if len(audio) % chunk_length_ms != 0 else 0)\n",
        "\n",
        "    last_word = \"\"\n",
        "\n",
        "    for i in range(num_chunks):\n",
        "        start_time = i * chunk_length_ms\n",
        "        end_time = min(start_time + chunk_length_ms, len(audio))\n",
        "\n",
        "        chunk = audio[start_time:end_time]\n",
        "\n",
        "        chunk, transcript = remove_last_word(chunk)\n",
        "\n",
        "        if last_word and transcript:\n",
        "            current_words = transcript.split()\n",
        "            if current_words and current_words[0].startswith(last_word):\n",
        "                chunk_duration = len(chunk)\n",
        "                duration_per_word = chunk_duration / len(current_words)\n",
        "                chunk = chunk[int(duration_per_word):]\n",
        "                transcript = \" \".join(current_words[1:])\n",
        "\n",
        "        if transcript:\n",
        "            last_word = transcript.split()[-1]\n",
        "\n",
        "        chunk_filename = os.path.join(output_dir, f\"{i + 1}.wav\")\n",
        "        chunk.export(chunk_filename, format=\"wav\")\n",
        "        print(f\"Exported: {chunk_filename}\")\n",
        "\n",
        "        local_chunk_filename = os.path.join(local_output_dir, f\"{i + 1}.wav\")\n",
        "        chunk.export(local_chunk_filename, format=\"wav\")\n",
        "        print(f\"Exported: {local_chunk_filename}\")\n",
        "\n",
        "        transcript_filename = os.path.join(output_dir, f\"{i + 1}.txt\")\n",
        "        with open(transcript_filename, \"w\") as transcript_file:\n",
        "            transcript_file.write(transcript)\n",
        "            print(f\"Transcript saved: {transcript_filename}\")\n",
        "\n",
        "        local_transcript_filename = os.path.join(local_output_dir, f\"{i + 1}.txt\")\n",
        "        with open(local_transcript_filename, \"w\") as transcript_file:\n",
        "            transcript_file.write(transcript)\n",
        "            print(f\"Transcript saved: {local_transcript_filename}\")\n",
        "\n",
        "    os.remove(input_audio_path)\n",
        "    print(f\"Deleted original file: '{input_audio_path}'.\")"
      ]
    },
    {
      "cell_type": "code",
      "execution_count": null,
      "metadata": {
        "id": "comiLwoeJMgX"
      },
      "outputs": [],
      "source": [
        "def print_clean_txt_file(file_path):\n",
        "    try:\n",
        "        with open(file_path, 'r') as file:\n",
        "            lines = file.readlines()\n",
        "            print(\"\\n\".join(line.strip() for line in lines))\n",
        "    except FileNotFoundError:\n",
        "        print(f\"Error: The file '{file_path}' was not found.\")\n",
        "    except Exception as e:\n",
        "        print(f\"An error occurred: {e}\")"
      ]
    },
    {
      "cell_type": "code",
      "execution_count": null,
      "metadata": {
        "id": "UGVPQlqcL4Cf"
      },
      "outputs": [],
      "source": [
        "def splitting_audio(output_path, output_drive_path):\n",
        "  for file_name in os.listdir(output_path):\n",
        "    if file_name.endswith('.wav'):\n",
        "        input_audio_path = os.path.join(output_path, file_name)\n",
        "        split_audio_into_chunks(input_audio_path, output_drive_path, file_name)"
      ]
    },
    {
      "cell_type": "markdown",
      "metadata": {
        "id": "pqu8Gbo4eyr5"
      },
      "source": [
        "# Create Transcript CSV"
      ]
    },
    {
      "cell_type": "code",
      "execution_count": null,
      "metadata": {
        "id": "aNxdbp6mezyp"
      },
      "outputs": [],
      "source": [
        "def create_transcript_csv(audio_dir, transcript_dir, gender, age, mood, environment):\n",
        "\n",
        "    audio_files = []\n",
        "    transcripts = []\n",
        "    genders = []\n",
        "    ages = []\n",
        "    accents = []\n",
        "    moods = []\n",
        "    environments = []\n",
        "    duration = []\n",
        "\n",
        "    accent = \"ar-EG\"\n",
        "\n",
        "    for filename in os.listdir(audio_dir):\n",
        "        if filename.endswith(\".wav\"):\n",
        "            audio_path = os.path.join(audio_dir, filename)\n",
        "            transcript_path = os.path.join(transcript_dir, f\"{os.path.splitext(filename)[0]}.txt\")\n",
        "\n",
        "            if os.path.exists(transcript_path):\n",
        "                with open(transcript_path, 'r') as file:\n",
        "                    transcript = file.read().strip()\n",
        "            else:\n",
        "                transcript = \"\"\n",
        "\n",
        "            audio_files.append(audio_path)\n",
        "            transcripts.append(transcript)\n",
        "            genders.append(gender)\n",
        "            ages.append(age)\n",
        "            accents.append(accent)\n",
        "            moods.append(mood)\n",
        "            environments.append(environment)\n",
        "            duration.append(AudioSegment.from_wav(audio_path).duration_seconds)\n",
        "\n",
        "    df = pd.DataFrame({\n",
        "        'Audio': audio_files,\n",
        "        'Transcript': transcripts,\n",
        "        'Gender': genders,\n",
        "        'Age': ages,\n",
        "        'Accent': accents,\n",
        "        'Mood': moods,\n",
        "        'Environment': environments,\n",
        "        'Duration': duration\n",
        "    })\n",
        "\n",
        "\n",
        "    return df"
      ]
    },
    {
      "cell_type": "code",
      "execution_count": null,
      "metadata": {
        "id": "ErTOpbvf10b3"
      },
      "outputs": [],
      "source": [
        "def empty_directory(directory_path):\n",
        "    for item in os.listdir(directory_path):\n",
        "        item_path = os.path.join(directory_path, item)\n",
        "        if os.path.isdir(item_path):\n",
        "            shutil.rmtree(item_path)  # Remove a directory and its contents\n",
        "        else:\n",
        "            os.unlink(item_path)  # Remove a file\n"
      ]
    },
    {
      "cell_type": "code",
      "execution_count": null,
      "metadata": {
        "colab": {
          "base_uri": "https://localhost:8080/"
        },
        "id": "Q7DR2LXKJwa6",
        "outputId": "8f28ad03-c422-4a3e-9cbc-d846cfcb66b3"
      },
      "outputs": [
        {
          "name": "stdout",
          "output_type": "stream",
          "text": [
            "Mounted at /content/drive\n"
          ]
        }
      ],
      "source": [
        "from google.colab import drive\n",
        "drive.mount('/content/drive')\n",
        "output_drive_path = '/content/drive/My Drive/speech_finalproject/data_processing'"
      ]
    },
    {
      "cell_type": "code",
      "execution_count": null,
      "metadata": {
        "id": "uKYtanmB2ERg"
      },
      "outputs": [],
      "source": [
        "video_url = 'https://www.youtube.com/watch?v=tBM9Y1dgEJU&list=PLCpK4282MCT80bGKKd_Ia8-y9HzKQcyOP'\n",
        "output_path = './downloaded_audio'"
      ]
    },
    {
      "cell_type": "code",
      "execution_count": null,
      "metadata": {
        "colab": {
          "background_save": true,
          "base_uri": "https://localhost:8080/"
        },
        "collapsed": true,
        "id": "jThO6knkRHkY",
        "outputId": "5f2ad1a4-fe53-4711-b3b7-b20bc8f48e3b"
      },
      "outputs": [],
      "source": [
        "download_youtube_audio_yt_dlp(video_url, output_path=output_path) # download audio\n",
        "convert_webm_to_wav(output_path) # convert to .wav\n",
        "process_all_audio_files_in_directory(output_path) # split audio to five minutes chunks\n",
        "separate_vocals_from_chunks(output_path) # separate vocals from chunks (remove music)\n",
        "remove_silences(output_path) # remove silence\n",
        "splitting_audio(output_path, output_drive_path) # split audio chunks int0 10 seconds chunks and save them on drive"
      ]
    },
    {
      "cell_type": "code",
      "execution_count": null,
      "metadata": {
        "id": "m8qLVzQafHT_"
      },
      "outputs": [],
      "source": [
        "csv_files = []\n",
        "\n",
        "for dir in os.listdir(output_path):\n",
        "  if dir.endswith('_without_silence'):\n",
        "      audio_directory = os.path.join(output_drive_path, dir)\n",
        "      transcript_directory = audio_directory\n",
        "      df = create_transcript_csv(audio_directory, transcript_directory, \"male\", 33, \"serious\", \"clean\")\n",
        "      csv_files.append(df)\n",
        "      # Save DataFrame to CSV\n",
        "      del audio_directory, transcript_directory, df\n",
        "\n",
        "del dir\n",
        "file_path = os.path.join(output_drive_path,'dataset.csv')\n",
        "combined_df = pd.concat(csv_files, ignore_index=True)\n",
        "combined_df.to_csv(file_path, mode='a', header=False, index=False)\n",
        "\n",
        "### empty Disk and RAM\n",
        "empty_directory(output_path) # empty the local directory\n",
        "del csv_files # delete temproray csv files list\n",
        "del combined_df # delete final dataframe"
      ]
    },
    {
      "cell_type": "code",
      "execution_count": null,
      "metadata": {
        "colab": {
          "background_save": true
        },
        "id": "hsEy7QVGaEgy",
        "outputId": "57ce9b33-5dd6-430f-9b0d-a19a91c1fb6d"
      },
      "outputs": [
        {
          "data": {
            "text/plain": [
              "[]"
            ]
          },
          "execution_count": 30,
          "metadata": {},
          "output_type": "execute_result"
        }
      ],
      "source": [
        "# empty_directory(output_path)\n",
        "os.listdir(output_path)"
      ]
    },
    {
      "cell_type": "markdown",
      "metadata": {
        "id": "H2lxDYqTigrB"
      },
      "source": [
        "# Get The Total Duration Collected"
      ]
    },
    {
      "cell_type": "code",
      "execution_count": null,
      "metadata": {
        "colab": {
          "base_uri": "https://localhost:8080/"
        },
        "id": "1lFOS51-hStE",
        "outputId": "ef039d35-e2c3-4153-9dfb-76a64e130a06"
      },
      "outputs": [
        {
          "name": "stdout",
          "output_type": "stream",
          "text": [
            "Information of Male Records\n",
            "Total Duration: 2 days, 18:05:49\n",
            "Net Duration: 1 day, 18:39:46\n",
            "Percentage of Empty Transcripts Duration: 35.45%\n",
            "Total Transcripts: 26913\n",
            "Empty Transcripts: 8491\n",
            "Percentage of Empty Transcripts Count: 31.55%\n"
          ]
        }
      ],
      "source": [
        "from datetime import timedelta\n",
        "\n",
        "file_path = os.path.join(output_drive_path,'dataset.csv')\n",
        "df = pd.read_csv(file_path, header=0)\n",
        "del file_path\n",
        "\n",
        "total_duration_male = df.loc[df['Gender'] == 'male', \"Duration\"].sum()\n",
        "formatted_total_duration_male = str(timedelta(seconds=int(total_duration_male)))\n",
        "\n",
        "empty_transcript_duration_male = df.loc[((df['Transcript'].isna()) | (df['Transcript'] == '')) & (df['Gender'] == 'male'), 'Duration'].sum()\n",
        "\n",
        "net_duration_male = total_duration_male - empty_transcript_duration_male\n",
        "formatted_net_duration_male = str(timedelta(seconds=int(net_duration_male)))\n",
        "\n",
        "empty_transcript_male_count = df.loc[(df['Gender'] == 'male') & ((df['Transcript'].isna()) | (df['Transcript'] == ''))].shape[0]\n",
        "transcript_male_count = df.loc[df['Gender'] == 'male', 'Gender'].count()\n",
        "\n",
        "print(\"Information of Male Records\")\n",
        "print(f\"Total Duration: {formatted_total_duration_male}\")  # 66:05:49\n",
        "print(f\"Net Duration: {formatted_net_duration_male}\") # 42:39:46\n",
        "print(f\"Percentage of Empty Transcripts Duration: {(empty_transcript_duration_male/total_duration_male)*100:.2f}%\")\n",
        "print(f\"Total Transcripts: {transcript_male_count}\")\n",
        "print(f\"Empty Transcripts: {empty_transcript_male_count}\")\n",
        "print(f\"Percentage of Empty Transcripts Count: {(empty_transcript_male_count/transcript_male_count)*100:.2f}%\")"
      ]
    },
    {
      "cell_type": "code",
      "execution_count": null,
      "metadata": {
        "colab": {
          "base_uri": "https://localhost:8080/"
        },
        "id": "LAbh8fzKZ6WQ",
        "outputId": "e50015df-27c2-43db-c49e-86f6cfc4fb8d"
      },
      "outputs": [
        {
          "name": "stdout",
          "output_type": "stream",
          "text": [
            "Information of Female Records\n",
            "Total Duration: 2 days, 14:33:10\n",
            "Net Duration: 1 day, 14:44:03\n",
            "Percentage of Empty Transcripts Duration: 38.08%\n",
            "Total Transcripts: 26004\n",
            "Empty Transcripts: 8793\n",
            "Percentage of Empty Transcripts Count: 33.81%\n"
          ]
        }
      ],
      "source": [
        "total_duration_female = df.loc[df['Gender'] == 'female', \"Duration\"].sum()\n",
        "formatted_total_duration_female = str(timedelta(seconds=int(total_duration_female)))\n",
        "\n",
        "empty_transcript_duration_female = df.loc[((df['Transcript'].isna()) | (df['Transcript'] == '')) & (df['Gender'] == 'female'), 'Duration'].sum()\n",
        "\n",
        "net_duration_female = total_duration_female - empty_transcript_duration_female\n",
        "formatted_net_duration_female = str(timedelta(seconds=int(net_duration_female)))\n",
        "\n",
        "empty_transcript_female_count = df.loc[(df['Gender'] == 'female') & ((df['Transcript'].isna()) | (df['Transcript'] == ''))].shape[0]\n",
        "transcript_female_count = df.loc[df['Gender'] == 'female', 'Gender'].count()\n",
        "\n",
        "print(\"Information of Female Records\")\n",
        "print(f\"Total Duration: {formatted_total_duration_female}\") # 62:33:10\n",
        "print(f\"Net Duration: {formatted_net_duration_female}\")  # 38:44:03 (62:30)\n",
        "print(f\"Percentage of Empty Transcripts Duration: {(empty_transcript_duration_female/total_duration_female)*100:.2f}%\")\n",
        "print(f\"Total Transcripts: {transcript_female_count}\")\n",
        "print(f\"Empty Transcripts: {empty_transcript_female_count}\")\n",
        "print(f\"Percentage of Empty Transcripts Count: {(empty_transcript_female_count/transcript_female_count)*100:.2f}%\")"
      ]
    },
    {
      "cell_type": "code",
      "execution_count": null,
      "metadata": {
        "colab": {
          "base_uri": "https://localhost:8080/",
          "height": 510
        },
        "id": "Non9NrCTi4-O",
        "outputId": "e38cf09f-64b9-488f-d21d-cc8d671b15f9"
      },
      "outputs": [
        {
          "name": "stdout",
          "output_type": "stream",
          "text": [
            "Total Information\n",
            "Total Duration: 5 days, 8:38:59 hours\n",
            "Net Duration: 3 days, 9:23:50 hours\n",
            "Percentage of Empty Transcripts Duration: 63.27%\n",
            "Total Transcripts: 52917\n"
          ]
        },
        {
          "data": {
            "application/vnd.google.colaboratory.intrinsic+json": {
              "summary": "{\n  \"name\": \"df\",\n  \"rows\": 52917,\n  \"fields\": [\n    {\n      \"column\": \"Audio\",\n      \"properties\": {\n        \"dtype\": \"string\",\n        \"num_unique_values\": 52917,\n        \"samples\": [\n          \"/content/drive/My Drive/speech_finalproject/data_processing/\\u0635\\u0627\\u062d\\u0628\\u0629 \\u0627\\u0644\\u0633\\u0639\\u0627\\u062f\\u0629 \\uff5c \\uff02 \\u0627\\u0644\\u062d\\u0644\\u0648\\u0629 \\uff02 \\u0646\\u062c\\u0645\\u0627\\u062a \\u0645\\u0633\\u0644\\u0633\\u0644\\u0627\\u062a \\u0631\\u0645\\u0636\\u0627\\u0646 2016 \\uff5c \\u062d\\u0644\\u0642\\u0629 \\u0643\\u0627\\u0645\\u0644\\u0629_chunk_15_vocal_without_silence/27.wav\",\n          \"/content/drive/My Drive/speech_finalproject/data_processing/\\u0648\\u0639\\u064a \\u0667\\u06f3 \\uff5c \\u0623\\u062d\\u0633\\u0646 \\u0627\\u0644\\u0642\\u0635\\u0635 \\uff5c \\u0633\\u064a\\u062f\\u0646\\u0627 \\u0625\\u0628\\u0631\\u0627\\u0647\\u064a\\u0645 \\u0639\\u0644\\u064a\\u0647 \\u0627\\u0644\\u0633\\u0644\\u0627\\u0645/505.wav\",\n          \"/content/drive/My Drive/speech_finalproject/data_processing/\\u0627\\u0628\\u0631\\u0627\\u0647\\u064a\\u0645 \\u0641\\u0627\\u064a\\u0642 X \\u062d\\u0645\\u0632\\u0629 \\u0646\\u0645\\u0631\\u0629 \\uff5c \\u0641\\u0627\\u064a\\u0642 \\u0648\\u0631\\u0627\\u064a\\u0642_without_silence/142.wav\"\n        ],\n        \"semantic_type\": \"\",\n        \"description\": \"\"\n      }\n    },\n    {\n      \"column\": \"Transcript\",\n      \"properties\": {\n        \"dtype\": \"string\",\n        \"num_unique_values\": 34401,\n        \"samples\": [\n          \"\\u0641\\u0642\\u0627\\u0628\\u0644\\u062a \\u0631\\u0627\\u062c\\u0644 \\u0628\\u0639\\u062f \\u0643\\u062f\\u0647 \\u0644\\u0642\\u064a\\u062a\\u0647 \\u0627\\u062a\\u0639\\u0635\\u0628 \\u0641\\u0642\\u0644\\u062a \\u0644\\u0647 \\u062d\\u0627\\u062c\\u0647 \\u0639\\u0644\\u0649 \\u0627\\u0644\\u062e\\u0644\\u0642\",\n          \"\\u0646\\u0633\\u062a\\u0639\\u062f \\u062c\\u064a\\u062f\\u0627 \\u062d\\u062a\\u0649 \\u0646\\u062a\\u0645\\u0643\\u0646 \\u0645\\u0646 \\u0627\\u0644\\u0627\\u062f\\u0627\\u0621 \\u0627\\u0644\\u062c\\u064a\\u062f \\u0647\\u0630\\u0627 \\u0627\\u0644\\u0635\\u064a\\u0641 \\u062d\\u0642\\u0627 \\u0644\\u0647\\u0630\\u0647 \\u0627\\u0644\\u0628\\u0637\\u0648\\u0644\\u0647\",\n          \"\\u0627\\u0644\\u0641\\u0643\\u0631\\u0647 \\u0627\\u0646 \\u0641\\u064a\"\n        ],\n        \"semantic_type\": \"\",\n        \"description\": \"\"\n      }\n    },\n    {\n      \"column\": \"Gender\",\n      \"properties\": {\n        \"dtype\": \"category\",\n        \"num_unique_values\": 2,\n        \"samples\": [\n          \"male\",\n          \"female\"\n        ],\n        \"semantic_type\": \"\",\n        \"description\": \"\"\n      }\n    },\n    {\n      \"column\": \"Age\",\n      \"properties\": {\n        \"dtype\": \"number\",\n        \"std\": 10,\n        \"min\": 30,\n        \"max\": 74,\n        \"num_unique_values\": 21,\n        \"samples\": [\n          55,\n          45\n        ],\n        \"semantic_type\": \"\",\n        \"description\": \"\"\n      }\n    },\n    {\n      \"column\": \"Accent\",\n      \"properties\": {\n        \"dtype\": \"category\",\n        \"num_unique_values\": 1,\n        \"samples\": [\n          \"ar-EG\"\n        ],\n        \"semantic_type\": \"\",\n        \"description\": \"\"\n      }\n    },\n    {\n      \"column\": \"Mood\",\n      \"properties\": {\n        \"dtype\": \"category\",\n        \"num_unique_values\": 2,\n        \"samples\": [\n          \"serious\"\n        ],\n        \"semantic_type\": \"\",\n        \"description\": \"\"\n      }\n    },\n    {\n      \"column\": \"Environment\",\n      \"properties\": {\n        \"dtype\": \"category\",\n        \"num_unique_values\": 2,\n        \"samples\": [\n          \"noisy\"\n        ],\n        \"semantic_type\": \"\",\n        \"description\": \"\"\n      }\n    },\n    {\n      \"column\": \"Duration\",\n      \"properties\": {\n        \"dtype\": \"number\",\n        \"std\": 2.1384274232006946,\n        \"min\": 0.0,\n        \"max\": 10.0,\n        \"num_unique_values\": 1030,\n        \"samples\": [\n          9.628979592\n        ],\n        \"semantic_type\": \"\",\n        \"description\": \"\"\n      }\n    }\n  ]\n}",
              "type": "dataframe",
              "variable_name": "df"
            },
            "text/html": [
              "\n",
              "  <div id=\"df-22b508b4-f115-45d2-a714-3e30af74670c\" class=\"colab-df-container\">\n",
              "    <div>\n",
              "<style scoped>\n",
              "    .dataframe tbody tr th:only-of-type {\n",
              "        vertical-align: middle;\n",
              "    }\n",
              "\n",
              "    .dataframe tbody tr th {\n",
              "        vertical-align: top;\n",
              "    }\n",
              "\n",
              "    .dataframe thead th {\n",
              "        text-align: right;\n",
              "    }\n",
              "</style>\n",
              "<table border=\"1\" class=\"dataframe\">\n",
              "  <thead>\n",
              "    <tr style=\"text-align: right;\">\n",
              "      <th></th>\n",
              "      <th>Audio</th>\n",
              "      <th>Transcript</th>\n",
              "      <th>Gender</th>\n",
              "      <th>Age</th>\n",
              "      <th>Accent</th>\n",
              "      <th>Mood</th>\n",
              "      <th>Environment</th>\n",
              "      <th>Duration</th>\n",
              "    </tr>\n",
              "  </thead>\n",
              "  <tbody>\n",
              "    <tr>\n",
              "      <th>0</th>\n",
              "      <td>/content/drive/My Drive/speech_finalproject/da...</td>\n",
              "      <td>يمكن بعد فتاه المصنع بعد الفيلم ده الفيلم ده ه...</td>\n",
              "      <td>female</td>\n",
              "      <td>55</td>\n",
              "      <td>ar-EG</td>\n",
              "      <td>casual</td>\n",
              "      <td>clean</td>\n",
              "      <td>9.230000</td>\n",
              "    </tr>\n",
              "    <tr>\n",
              "      <th>1</th>\n",
              "      <td>/content/drive/My Drive/speech_finalproject/da...</td>\n",
              "      <td>ثقه في نفسي ويمكن الثقه دي هي اللي خلتني ما ان...</td>\n",
              "      <td>female</td>\n",
              "      <td>55</td>\n",
              "      <td>ar-EG</td>\n",
              "      <td>casual</td>\n",
              "      <td>clean</td>\n",
              "      <td>9.544989</td>\n",
              "    </tr>\n",
              "    <tr>\n",
              "      <th>2</th>\n",
              "      <td>/content/drive/My Drive/speech_finalproject/da...</td>\n",
              "      <td>بعد نجاح فيلم فتاه المصنع ونجاحي انا كممثله وا...</td>\n",
              "      <td>female</td>\n",
              "      <td>55</td>\n",
              "      <td>ar-EG</td>\n",
              "      <td>casual</td>\n",
              "      <td>clean</td>\n",
              "      <td>9.230000</td>\n",
              "    </tr>\n",
              "    <tr>\n",
              "      <th>3</th>\n",
              "      <td>/content/drive/My Drive/speech_finalproject/da...</td>\n",
              "      <td>ممثلين الناس كلها بتقول انت عامله دور حلو انت ...</td>\n",
              "      <td>female</td>\n",
              "      <td>55</td>\n",
              "      <td>ar-EG</td>\n",
              "      <td>casual</td>\n",
              "      <td>clean</td>\n",
              "      <td>9.410998</td>\n",
              "    </tr>\n",
              "    <tr>\n",
              "      <th>4</th>\n",
              "      <td>/content/drive/My Drive/speech_finalproject/da...</td>\n",
              "      <td>NaN</td>\n",
              "      <td>female</td>\n",
              "      <td>55</td>\n",
              "      <td>ar-EG</td>\n",
              "      <td>casual</td>\n",
              "      <td>clean</td>\n",
              "      <td>10.000000</td>\n",
              "    </tr>\n",
              "    <tr>\n",
              "      <th>...</th>\n",
              "      <td>...</td>\n",
              "      <td>...</td>\n",
              "      <td>...</td>\n",
              "      <td>...</td>\n",
              "      <td>...</td>\n",
              "      <td>...</td>\n",
              "      <td>...</td>\n",
              "      <td>...</td>\n",
              "    </tr>\n",
              "    <tr>\n",
              "      <th>52912</th>\n",
              "      <td>/content/drive/My Drive/speech_finalproject/da...</td>\n",
              "      <td>والخير للمؤمن الايمان والتقوى هو ده اللي هياخد...</td>\n",
              "      <td>male</td>\n",
              "      <td>33</td>\n",
              "      <td>ar-EG</td>\n",
              "      <td>serious</td>\n",
              "      <td>clean</td>\n",
              "      <td>9.333000</td>\n",
              "    </tr>\n",
              "    <tr>\n",
              "      <th>52913</th>\n",
              "      <td>/content/drive/My Drive/speech_finalproject/da...</td>\n",
              "      <td>الدنيا فعند الله ثواب الدنيا والاخره يعني ربنا...</td>\n",
              "      <td>male</td>\n",
              "      <td>33</td>\n",
              "      <td>ar-EG</td>\n",
              "      <td>serious</td>\n",
              "      <td>clean</td>\n",
              "      <td>9.473000</td>\n",
              "    </tr>\n",
              "    <tr>\n",
              "      <th>52914</th>\n",
              "      <td>/content/drive/My Drive/speech_finalproject/da...</td>\n",
              "      <td>جزاكم الله خيرا سبحان الله والحمد لله ولا اله ...</td>\n",
              "      <td>male</td>\n",
              "      <td>33</td>\n",
              "      <td>ar-EG</td>\n",
              "      <td>serious</td>\n",
              "      <td>clean</td>\n",
              "      <td>9.333000</td>\n",
              "    </tr>\n",
              "    <tr>\n",
              "      <th>52915</th>\n",
              "      <td>/content/drive/My Drive/speech_finalproject/da...</td>\n",
              "      <td>جزاك الله خير</td>\n",
              "      <td>male</td>\n",
              "      <td>33</td>\n",
              "      <td>ar-EG</td>\n",
              "      <td>serious</td>\n",
              "      <td>clean</td>\n",
              "      <td>6.666000</td>\n",
              "    </tr>\n",
              "    <tr>\n",
              "      <th>52916</th>\n",
              "      <td>/content/drive/My Drive/speech_finalproject/da...</td>\n",
              "      <td>NaN</td>\n",
              "      <td>male</td>\n",
              "      <td>33</td>\n",
              "      <td>ar-EG</td>\n",
              "      <td>serious</td>\n",
              "      <td>clean</td>\n",
              "      <td>2.605000</td>\n",
              "    </tr>\n",
              "  </tbody>\n",
              "</table>\n",
              "<p>52917 rows × 8 columns</p>\n",
              "</div>\n",
              "    <div class=\"colab-df-buttons\">\n",
              "\n",
              "  <div class=\"colab-df-container\">\n",
              "    <button class=\"colab-df-convert\" onclick=\"convertToInteractive('df-22b508b4-f115-45d2-a714-3e30af74670c')\"\n",
              "            title=\"Convert this dataframe to an interactive table.\"\n",
              "            style=\"display:none;\">\n",
              "\n",
              "  <svg xmlns=\"http://www.w3.org/2000/svg\" height=\"24px\" viewBox=\"0 -960 960 960\">\n",
              "    <path d=\"M120-120v-720h720v720H120Zm60-500h600v-160H180v160Zm220 220h160v-160H400v160Zm0 220h160v-160H400v160ZM180-400h160v-160H180v160Zm440 0h160v-160H620v160ZM180-180h160v-160H180v160Zm440 0h160v-160H620v160Z\"/>\n",
              "  </svg>\n",
              "    </button>\n",
              "\n",
              "  <style>\n",
              "    .colab-df-container {\n",
              "      display:flex;\n",
              "      gap: 12px;\n",
              "    }\n",
              "\n",
              "    .colab-df-convert {\n",
              "      background-color: #E8F0FE;\n",
              "      border: none;\n",
              "      border-radius: 50%;\n",
              "      cursor: pointer;\n",
              "      display: none;\n",
              "      fill: #1967D2;\n",
              "      height: 32px;\n",
              "      padding: 0 0 0 0;\n",
              "      width: 32px;\n",
              "    }\n",
              "\n",
              "    .colab-df-convert:hover {\n",
              "      background-color: #E2EBFA;\n",
              "      box-shadow: 0px 1px 2px rgba(60, 64, 67, 0.3), 0px 1px 3px 1px rgba(60, 64, 67, 0.15);\n",
              "      fill: #174EA6;\n",
              "    }\n",
              "\n",
              "    .colab-df-buttons div {\n",
              "      margin-bottom: 4px;\n",
              "    }\n",
              "\n",
              "    [theme=dark] .colab-df-convert {\n",
              "      background-color: #3B4455;\n",
              "      fill: #D2E3FC;\n",
              "    }\n",
              "\n",
              "    [theme=dark] .colab-df-convert:hover {\n",
              "      background-color: #434B5C;\n",
              "      box-shadow: 0px 1px 3px 1px rgba(0, 0, 0, 0.15);\n",
              "      filter: drop-shadow(0px 1px 2px rgba(0, 0, 0, 0.3));\n",
              "      fill: #FFFFFF;\n",
              "    }\n",
              "  </style>\n",
              "\n",
              "    <script>\n",
              "      const buttonEl =\n",
              "        document.querySelector('#df-22b508b4-f115-45d2-a714-3e30af74670c button.colab-df-convert');\n",
              "      buttonEl.style.display =\n",
              "        google.colab.kernel.accessAllowed ? 'block' : 'none';\n",
              "\n",
              "      async function convertToInteractive(key) {\n",
              "        const element = document.querySelector('#df-22b508b4-f115-45d2-a714-3e30af74670c');\n",
              "        const dataTable =\n",
              "          await google.colab.kernel.invokeFunction('convertToInteractive',\n",
              "                                                    [key], {});\n",
              "        if (!dataTable) return;\n",
              "\n",
              "        const docLinkHtml = 'Like what you see? Visit the ' +\n",
              "          '<a target=\"_blank\" href=https://colab.research.google.com/notebooks/data_table.ipynb>data table notebook</a>'\n",
              "          + ' to learn more about interactive tables.';\n",
              "        element.innerHTML = '';\n",
              "        dataTable['output_type'] = 'display_data';\n",
              "        await google.colab.output.renderOutput(dataTable, element);\n",
              "        const docLink = document.createElement('div');\n",
              "        docLink.innerHTML = docLinkHtml;\n",
              "        element.appendChild(docLink);\n",
              "      }\n",
              "    </script>\n",
              "  </div>\n",
              "\n",
              "\n",
              "<div id=\"df-c6f72649-0548-429f-95a6-4fa0a7447f3a\">\n",
              "  <button class=\"colab-df-quickchart\" onclick=\"quickchart('df-c6f72649-0548-429f-95a6-4fa0a7447f3a')\"\n",
              "            title=\"Suggest charts\"\n",
              "            style=\"display:none;\">\n",
              "\n",
              "<svg xmlns=\"http://www.w3.org/2000/svg\" height=\"24px\"viewBox=\"0 0 24 24\"\n",
              "     width=\"24px\">\n",
              "    <g>\n",
              "        <path d=\"M19 3H5c-1.1 0-2 .9-2 2v14c0 1.1.9 2 2 2h14c1.1 0 2-.9 2-2V5c0-1.1-.9-2-2-2zM9 17H7v-7h2v7zm4 0h-2V7h2v10zm4 0h-2v-4h2v4z\"/>\n",
              "    </g>\n",
              "</svg>\n",
              "  </button>\n",
              "\n",
              "<style>\n",
              "  .colab-df-quickchart {\n",
              "      --bg-color: #E8F0FE;\n",
              "      --fill-color: #1967D2;\n",
              "      --hover-bg-color: #E2EBFA;\n",
              "      --hover-fill-color: #174EA6;\n",
              "      --disabled-fill-color: #AAA;\n",
              "      --disabled-bg-color: #DDD;\n",
              "  }\n",
              "\n",
              "  [theme=dark] .colab-df-quickchart {\n",
              "      --bg-color: #3B4455;\n",
              "      --fill-color: #D2E3FC;\n",
              "      --hover-bg-color: #434B5C;\n",
              "      --hover-fill-color: #FFFFFF;\n",
              "      --disabled-bg-color: #3B4455;\n",
              "      --disabled-fill-color: #666;\n",
              "  }\n",
              "\n",
              "  .colab-df-quickchart {\n",
              "    background-color: var(--bg-color);\n",
              "    border: none;\n",
              "    border-radius: 50%;\n",
              "    cursor: pointer;\n",
              "    display: none;\n",
              "    fill: var(--fill-color);\n",
              "    height: 32px;\n",
              "    padding: 0;\n",
              "    width: 32px;\n",
              "  }\n",
              "\n",
              "  .colab-df-quickchart:hover {\n",
              "    background-color: var(--hover-bg-color);\n",
              "    box-shadow: 0 1px 2px rgba(60, 64, 67, 0.3), 0 1px 3px 1px rgba(60, 64, 67, 0.15);\n",
              "    fill: var(--button-hover-fill-color);\n",
              "  }\n",
              "\n",
              "  .colab-df-quickchart-complete:disabled,\n",
              "  .colab-df-quickchart-complete:disabled:hover {\n",
              "    background-color: var(--disabled-bg-color);\n",
              "    fill: var(--disabled-fill-color);\n",
              "    box-shadow: none;\n",
              "  }\n",
              "\n",
              "  .colab-df-spinner {\n",
              "    border: 2px solid var(--fill-color);\n",
              "    border-color: transparent;\n",
              "    border-bottom-color: var(--fill-color);\n",
              "    animation:\n",
              "      spin 1s steps(1) infinite;\n",
              "  }\n",
              "\n",
              "  @keyframes spin {\n",
              "    0% {\n",
              "      border-color: transparent;\n",
              "      border-bottom-color: var(--fill-color);\n",
              "      border-left-color: var(--fill-color);\n",
              "    }\n",
              "    20% {\n",
              "      border-color: transparent;\n",
              "      border-left-color: var(--fill-color);\n",
              "      border-top-color: var(--fill-color);\n",
              "    }\n",
              "    30% {\n",
              "      border-color: transparent;\n",
              "      border-left-color: var(--fill-color);\n",
              "      border-top-color: var(--fill-color);\n",
              "      border-right-color: var(--fill-color);\n",
              "    }\n",
              "    40% {\n",
              "      border-color: transparent;\n",
              "      border-right-color: var(--fill-color);\n",
              "      border-top-color: var(--fill-color);\n",
              "    }\n",
              "    60% {\n",
              "      border-color: transparent;\n",
              "      border-right-color: var(--fill-color);\n",
              "    }\n",
              "    80% {\n",
              "      border-color: transparent;\n",
              "      border-right-color: var(--fill-color);\n",
              "      border-bottom-color: var(--fill-color);\n",
              "    }\n",
              "    90% {\n",
              "      border-color: transparent;\n",
              "      border-bottom-color: var(--fill-color);\n",
              "    }\n",
              "  }\n",
              "</style>\n",
              "\n",
              "  <script>\n",
              "    async function quickchart(key) {\n",
              "      const quickchartButtonEl =\n",
              "        document.querySelector('#' + key + ' button');\n",
              "      quickchartButtonEl.disabled = true;  // To prevent multiple clicks.\n",
              "      quickchartButtonEl.classList.add('colab-df-spinner');\n",
              "      try {\n",
              "        const charts = await google.colab.kernel.invokeFunction(\n",
              "            'suggestCharts', [key], {});\n",
              "      } catch (error) {\n",
              "        console.error('Error during call to suggestCharts:', error);\n",
              "      }\n",
              "      quickchartButtonEl.classList.remove('colab-df-spinner');\n",
              "      quickchartButtonEl.classList.add('colab-df-quickchart-complete');\n",
              "    }\n",
              "    (() => {\n",
              "      let quickchartButtonEl =\n",
              "        document.querySelector('#df-c6f72649-0548-429f-95a6-4fa0a7447f3a button');\n",
              "      quickchartButtonEl.style.display =\n",
              "        google.colab.kernel.accessAllowed ? 'block' : 'none';\n",
              "    })();\n",
              "  </script>\n",
              "</div>\n",
              "\n",
              "  <div id=\"id_8a407bdf-b249-4141-8080-fa152c5d4694\">\n",
              "    <style>\n",
              "      .colab-df-generate {\n",
              "        background-color: #E8F0FE;\n",
              "        border: none;\n",
              "        border-radius: 50%;\n",
              "        cursor: pointer;\n",
              "        display: none;\n",
              "        fill: #1967D2;\n",
              "        height: 32px;\n",
              "        padding: 0 0 0 0;\n",
              "        width: 32px;\n",
              "      }\n",
              "\n",
              "      .colab-df-generate:hover {\n",
              "        background-color: #E2EBFA;\n",
              "        box-shadow: 0px 1px 2px rgba(60, 64, 67, 0.3), 0px 1px 3px 1px rgba(60, 64, 67, 0.15);\n",
              "        fill: #174EA6;\n",
              "      }\n",
              "\n",
              "      [theme=dark] .colab-df-generate {\n",
              "        background-color: #3B4455;\n",
              "        fill: #D2E3FC;\n",
              "      }\n",
              "\n",
              "      [theme=dark] .colab-df-generate:hover {\n",
              "        background-color: #434B5C;\n",
              "        box-shadow: 0px 1px 3px 1px rgba(0, 0, 0, 0.15);\n",
              "        filter: drop-shadow(0px 1px 2px rgba(0, 0, 0, 0.3));\n",
              "        fill: #FFFFFF;\n",
              "      }\n",
              "    </style>\n",
              "    <button class=\"colab-df-generate\" onclick=\"generateWithVariable('df')\"\n",
              "            title=\"Generate code using this dataframe.\"\n",
              "            style=\"display:none;\">\n",
              "\n",
              "  <svg xmlns=\"http://www.w3.org/2000/svg\" height=\"24px\"viewBox=\"0 0 24 24\"\n",
              "       width=\"24px\">\n",
              "    <path d=\"M7,19H8.4L18.45,9,17,7.55,7,17.6ZM5,21V16.75L18.45,3.32a2,2,0,0,1,2.83,0l1.4,1.43a1.91,1.91,0,0,1,.58,1.4,1.91,1.91,0,0,1-.58,1.4L9.25,21ZM18.45,9,17,7.55Zm-12,3A5.31,5.31,0,0,0,4.9,8.1,5.31,5.31,0,0,0,1,6.5,5.31,5.31,0,0,0,4.9,4.9,5.31,5.31,0,0,0,6.5,1,5.31,5.31,0,0,0,8.1,4.9,5.31,5.31,0,0,0,12,6.5,5.46,5.46,0,0,0,6.5,12Z\"/>\n",
              "  </svg>\n",
              "    </button>\n",
              "    <script>\n",
              "      (() => {\n",
              "      const buttonEl =\n",
              "        document.querySelector('#id_8a407bdf-b249-4141-8080-fa152c5d4694 button.colab-df-generate');\n",
              "      buttonEl.style.display =\n",
              "        google.colab.kernel.accessAllowed ? 'block' : 'none';\n",
              "\n",
              "      buttonEl.onclick = () => {\n",
              "        google.colab.notebook.generateWithVariable('df');\n",
              "      }\n",
              "      })();\n",
              "    </script>\n",
              "  </div>\n",
              "\n",
              "    </div>\n",
              "  </div>\n"
            ],
            "text/plain": [
              "                                                   Audio  \\\n",
              "0      /content/drive/My Drive/speech_finalproject/da...   \n",
              "1      /content/drive/My Drive/speech_finalproject/da...   \n",
              "2      /content/drive/My Drive/speech_finalproject/da...   \n",
              "3      /content/drive/My Drive/speech_finalproject/da...   \n",
              "4      /content/drive/My Drive/speech_finalproject/da...   \n",
              "...                                                  ...   \n",
              "52912  /content/drive/My Drive/speech_finalproject/da...   \n",
              "52913  /content/drive/My Drive/speech_finalproject/da...   \n",
              "52914  /content/drive/My Drive/speech_finalproject/da...   \n",
              "52915  /content/drive/My Drive/speech_finalproject/da...   \n",
              "52916  /content/drive/My Drive/speech_finalproject/da...   \n",
              "\n",
              "                                              Transcript  Gender  Age Accent  \\\n",
              "0      يمكن بعد فتاه المصنع بعد الفيلم ده الفيلم ده ه...  female   55  ar-EG   \n",
              "1      ثقه في نفسي ويمكن الثقه دي هي اللي خلتني ما ان...  female   55  ar-EG   \n",
              "2      بعد نجاح فيلم فتاه المصنع ونجاحي انا كممثله وا...  female   55  ar-EG   \n",
              "3      ممثلين الناس كلها بتقول انت عامله دور حلو انت ...  female   55  ar-EG   \n",
              "4                                                    NaN  female   55  ar-EG   \n",
              "...                                                  ...     ...  ...    ...   \n",
              "52912  والخير للمؤمن الايمان والتقوى هو ده اللي هياخد...    male   33  ar-EG   \n",
              "52913  الدنيا فعند الله ثواب الدنيا والاخره يعني ربنا...    male   33  ar-EG   \n",
              "52914  جزاكم الله خيرا سبحان الله والحمد لله ولا اله ...    male   33  ar-EG   \n",
              "52915                                      جزاك الله خير    male   33  ar-EG   \n",
              "52916                                                NaN    male   33  ar-EG   \n",
              "\n",
              "          Mood Environment   Duration  \n",
              "0       casual       clean   9.230000  \n",
              "1       casual       clean   9.544989  \n",
              "2       casual       clean   9.230000  \n",
              "3       casual       clean   9.410998  \n",
              "4       casual       clean  10.000000  \n",
              "...        ...         ...        ...  \n",
              "52912  serious       clean   9.333000  \n",
              "52913  serious       clean   9.473000  \n",
              "52914  serious       clean   9.333000  \n",
              "52915  serious       clean   6.666000  \n",
              "52916  serious       clean   2.605000  \n",
              "\n",
              "[52917 rows x 8 columns]"
            ]
          },
          "execution_count": 7,
          "metadata": {},
          "output_type": "execute_result"
        }
      ],
      "source": [
        "total_duration = total_duration_male + total_duration_female\n",
        "formatted_total_duration = str(timedelta(seconds=int(total_duration)))\n",
        "total_net_duration = net_duration_male + net_duration_female\n",
        "formatted_total_net_duration = str(timedelta(seconds=int(total_net_duration)))\n",
        "\n",
        "print(\"Total Information\")\n",
        "print(f\"Total Duration: {formatted_total_duration} hours\") # 128:38:59\n",
        "print(f\"Net Duration: {formatted_total_net_duration} hours\") # 81:23:50\n",
        "print(f\"Percentage of Empty Transcripts Duration: {(total_net_duration/total_duration)*100:.2f}%\")\n",
        "print(f\"Total Transcripts: {len(df)}\")\n",
        "df"
      ]
    },
    {
      "cell_type": "code",
      "execution_count": null,
      "metadata": {
        "id": "eufOAUmp0dGX"
      },
      "outputs": [],
      "source": [
        "del df"
      ]
    },
    {
      "cell_type": "markdown",
      "metadata": {
        "id": "BXdbZ3bXil3D"
      },
      "source": [
        "# Add Headers at The Beginning or at the End of Collecting Only"
      ]
    },
    {
      "cell_type": "code",
      "execution_count": null,
      "metadata": {
        "id": "B7KsGSQhfI0L"
      },
      "outputs": [],
      "source": [
        "# file_path = os.path.join(output_drive_path,'dataset.csv')\n",
        "# headers = [\"Audio\", \"Transcript\", \"Gender\", \"Age\", \"Accent\", \"Mood\", \"Environment\", \"Duration\"]\n",
        "# # Read the CSV and assign the header\n",
        "# df = pd.read_csv(file_path, header=None, names=headers)\n",
        "\n",
        "# # Save the updated CSV\n",
        "# df.to_csv(file_path, index=False)\n",
        "# print(\"Header added successfully.\")\n",
        "# df"
      ]
    },
    {
      "cell_type": "code",
      "execution_count": null,
      "metadata": {
        "id": "3SU5q95eMKla"
      },
      "outputs": [],
      "source": [
        "# drive_path = '/content/drive/My Drive/speech_finalproject/Playlist_2'"
      ]
    },
    {
      "cell_type": "code",
      "execution_count": null,
      "metadata": {
        "id": "inqC0giDIN4s"
      },
      "outputs": [],
      "source": [
        "# for dir in os.listdir(drive_path):\n",
        "#   if not dir.endswith('.csv'):\n",
        "#     for file_name in os.listdir(os.path.join(drive_path, dir)):\n",
        "#       if file_name.endswith('.wav'):\n",
        "#         chunk_filename = os.path.join(drive_path, dir, file_name)\n",
        "#         chunk = AudioSegment.from_wav(chunk_filename)\n",
        "#         output_filename = os.path.join(output_path, dir, file_name)\n",
        "#         os.makedirs(os.path.dirname(output_filename), exist_ok=True)\n",
        "#         chunk.export(output_filename, format=\"wav\")\n",
        "#         print(f\"Exported: {output_filename}\")\n",
        "\n",
        "#         output_filename_2 = os.path.join(output_drive_path, dir, file_name)\n",
        "#         os.makedirs(os.path.dirname(output_filename_2), exist_ok=True)\n",
        "#         chunk.export(output_filename_2, format=\"wav\")\n",
        "#         print(f\"Exported: {output_filename_2}\")\n",
        "\n",
        "#       if file_name.endswith('.txt'):\n",
        "#         transcript_filename = os.path.join(drive_path, dir, file_name)\n",
        "#         with open(transcript_filename, \"r\") as transcript_file:\n",
        "#           transcript = transcript_file.read()\n",
        "#         output_t_filename = os.path.join(output_path, dir, file_name)\n",
        "#         os.makedirs(os.path.dirname(output_t_filename), exist_ok=True)\n",
        "#         with open(output_t_filename, \"w\") as trans_file:\n",
        "#           trans_file.write(transcript)\n",
        "#           print(f\"Transcript saved: {output_t_filename}\")\n",
        "\n",
        "#         output_t_filename_2 = os.path.join(output_drive_path, dir, file_name)\n",
        "#         os.makedirs(os.path.dirname(output_t_filename_2), exist_ok=True)\n",
        "#         with open(output_t_filename_2, \"w\") as trans_file:\n",
        "#           trans_file.write(transcript)\n",
        "#           print(f\"Transcript saved: {output_t_filename_2}\")"
      ]
    }
  ],
  "metadata": {
    "colab": {
      "provenance": []
    },
    "kernelspec": {
      "display_name": "Python 3",
      "name": "python3"
    },
    "language_info": {
      "name": "python"
    }
  },
  "nbformat": 4,
  "nbformat_minor": 0
}
